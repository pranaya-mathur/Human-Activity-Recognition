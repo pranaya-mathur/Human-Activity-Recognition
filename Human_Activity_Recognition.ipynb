{
 "cells": [
  {
   "cell_type": "code",
   "execution_count": 2,
   "metadata": {
    "colab": {
     "base_uri": "https://localhost:8080/",
     "height": 72,
     "resources": {
      "http://localhost:8080/nbextensions/google.colab/files.js": {
       "data": "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",
       "headers": [
        [
         "content-type",
         "application/javascript"
        ]
       ],
       "ok": true,
       "status": 200,
       "status_text": ""
      }
     }
    },
    "colab_type": "code",
    "id": "lVIiMNo4586M",
    "outputId": "a5b1db11-2b5e-4d37-ecd5-e8d10215e002"
   },
   "outputs": [
    {
     "data": {
      "text/html": [
       "\n",
       "     <input type=\"file\" id=\"files-70e169cf-c072-4940-98f2-78a2baa746dc\" name=\"files[]\" multiple disabled />\n",
       "     <output id=\"result-70e169cf-c072-4940-98f2-78a2baa746dc\">\n",
       "      Upload widget is only available when the cell has been executed in the\n",
       "      current browser session. Please rerun this cell to enable.\n",
       "      </output>\n",
       "      <script src=\"/nbextensions/google.colab/files.js\"></script> "
      ],
      "text/plain": [
       "<IPython.core.display.HTML object>"
      ]
     },
     "metadata": {
      "tags": []
     },
     "output_type": "display_data"
    },
    {
     "name": "stdout",
     "output_type": "stream",
     "text": [
      "Saving HumanActivityRecognition.zip to HumanActivityRecognition.zip\n"
     ]
    }
   ],
   "source": [
    "from google.colab import files\n",
    "files.upload()"
   ]
  },
  {
   "cell_type": "code",
   "execution_count": 0,
   "metadata": {
    "colab": {},
    "colab_type": "code",
    "id": "nnWNDzg16GkN"
   },
   "outputs": [],
   "source": [
    "import zipfile\n",
    "zip_ref = zipfile.ZipFile(\"HumanActivityRecognition.zip\", 'r')\n",
    "zip_ref.extractall(\"Human\")\n",
    "zip_ref.close()\n"
   ]
  },
  {
   "cell_type": "code",
   "execution_count": 4,
   "metadata": {
    "colab": {
     "base_uri": "https://localhost:8080/",
     "height": 34
    },
    "colab_type": "code",
    "id": "lHkgkpCOJmT-",
    "outputId": "51e8087a-95c1-4c54-f98b-baebfde61cfa"
   },
   "outputs": [
    {
     "name": "stderr",
     "output_type": "stream",
     "text": [
      "Using TensorFlow backend.\n"
     ]
    }
   ],
   "source": [
    "# Importing the required libraries\n",
    "\n",
    "import pandas as pd\n",
    "import numpy as np\n",
    "from keras import backend as K\n",
    "from keras.models import Sequential\n",
    "from keras.layers import LSTM\n",
    "from keras.layers.core import Dense, Dropout\n",
    "from keras.optimizers import RMSprop, SGD, Adam\n",
    "from keras.callbacks import ModelCheckpoint, EarlyStopping, ReduceLROnPlateau"
   ]
  },
  {
   "cell_type": "code",
   "execution_count": 0,
   "metadata": {
    "colab": {},
    "colab_type": "code",
    "id": "rCmDvaFgJqmh"
   },
   "outputs": [],
   "source": [
    "# Activities are the class labels\n",
    "# It is a 6 class classification\n",
    "ACTIVITIES = {\n",
    "    0: 'WALKING',\n",
    "    1: 'WALKING_UPSTAIRS',\n",
    "    2: 'WALKING_DOWNSTAIRS',\n",
    "    3: 'SITTING',\n",
    "    4: 'STANDING',\n",
    "    5: 'LAYING',\n",
    "}\n",
    "\n",
    "\n",
    "# Raw data signals\n",
    "# Signals are from Accelerometer and Gyroscope\n",
    "# The signals are in x,y,z directions\n",
    "# Sensor signals are filtered to have only body acceleration\n",
    "# excluding the acceleration due to gravity\n",
    "# Triaxial acceleration from the accelerometer is total acceleration\n",
    "SIGNALS = [\n",
    "    \"body_acc_x\",\n",
    "    \"body_acc_y\",\n",
    "    \"body_acc_z\",\n",
    "    \"body_gyro_x\",\n",
    "    \"body_gyro_y\",\n",
    "    \"body_gyro_z\",\n",
    "    \"total_acc_x\",\n",
    "    \"total_acc_y\",\n",
    "    \"total_acc_z\"\n",
    "]"
   ]
  },
  {
   "cell_type": "code",
   "execution_count": 0,
   "metadata": {
    "colab": {},
    "colab_type": "code",
    "id": "CdLPTEviJvQ9"
   },
   "outputs": [],
   "source": [
    "# Defining Helper Functions\n",
    "\n",
    "# Utility function to print the confusion matrix\n",
    "def confusion_matrix(Y_true, Y_pred):\n",
    "    Y_true = pd.Series([ACTIVITIES[y] for y in np.argmax(Y_true, axis=1)])\n",
    "    Y_pred = pd.Series([ACTIVITIES[y] for y in np.argmax(Y_pred, axis=1)])\n",
    "\n",
    "    return pd.crosstab(Y_true, Y_pred, rownames=['True'], colnames=['Pred'])\n",
    "  \n",
    "  \n",
    "# Utility function to read the data from csv file\n",
    "def _read_csv(filename):\n",
    "    return pd.read_csv(filename, delim_whitespace=True, header=None)\n",
    "\n",
    "# Utility function to load the signals\n",
    "def load_signals(subset):\n",
    "    signals_data = []\n",
    "\n",
    "    for signal in SIGNALS:\n",
    "        filename = f'Human/HAR/UCI_HAR_Dataset/{subset}/Inertial Signals/{signal}_{subset}.txt'\n",
    "        signals_data.append(\n",
    "            _read_csv(filename).as_matrix()\n",
    "        ) \n",
    "\n",
    "    # Transpose is used to change the dimensionality of the output,\n",
    "    # aggregating the signals by combination of sample/timestep.\n",
    "    # Resultant shape is (7352 train/2947 test samples, 128 timesteps, 9 signals)\n",
    "    return np.transpose(signals_data, (1, 2, 0))\n",
    "  \n",
    "  \n",
    "def load_y(subset):\n",
    "    \"\"\"\n",
    "    The objective that we are trying to predict is a integer, from 1 to 6,\n",
    "    that represents a human activity. We return a binary representation of \n",
    "    every sample objective as a 6 bits vector using One Hot Encoding\n",
    "    (https://pandas.pydata.org/pandas-docs/stable/generated/pandas.get_dummies.html)\n",
    "    \"\"\"\n",
    "    filename = f'Human/HAR/UCI_HAR_Dataset/{subset}/y_{subset}.txt'\n",
    "    y = _read_csv(filename)[0]\n",
    "\n",
    "    return pd.get_dummies(y).as_matrix()\n",
    "  \n",
    "  \n",
    "def load_data():\n",
    "    \"\"\"\n",
    "    Obtain the dataset from multiple files.\n",
    "    Returns: X_train, X_test, y_train, y_test\n",
    "    \"\"\"\n",
    "    X_train, X_test = load_signals('train'), load_signals('test')\n",
    "    y_train, y_test = load_y('train'), load_y('test')\n",
    "\n",
    "    return X_train, X_test, y_train, y_test\n",
    "  \n",
    "  \n",
    " # Utility function to count the number of classes\n",
    "def _count_classes(y):\n",
    "    return len(set([tuple(category) for category in y]))\n",
    "  \n",
    " "
   ]
  },
  {
   "cell_type": "code",
   "execution_count": 0,
   "metadata": {
    "colab": {},
    "colab_type": "code",
    "id": "UYJNrrMaJ05k"
   },
   "outputs": [],
   "source": [
    "X_train, X_test, Y_train, Y_test = load_data() # Loading the train and test data"
   ]
  },
  {
   "cell_type": "code",
   "execution_count": 8,
   "metadata": {
    "colab": {
     "base_uri": "https://localhost:8080/",
     "height": 68
    },
    "colab_type": "code",
    "id": "GTTFbyTDJ2xo",
    "outputId": "439c8672-c076-4ecc-a204-ddc3263144a3"
   },
   "outputs": [
    {
     "name": "stdout",
     "output_type": "stream",
     "text": [
      "128\n",
      "9\n",
      "7352\n"
     ]
    }
   ],
   "source": [
    "timesteps = len(X_train[0])\n",
    "input_dim = len(X_train[0][0])\n",
    "n_classes = _count_classes(Y_train)\n",
    "\n",
    "print(timesteps)\n",
    "print(input_dim)\n",
    "print(len(X_train))"
   ]
  },
  {
   "cell_type": "markdown",
   "metadata": {
    "colab_type": "text",
    "id": "idn9j08CJ8os"
   },
   "source": [
    "# **Model - 1    With One LSTM Layer with 32 Neurons** "
   ]
  },
  {
   "cell_type": "code",
   "execution_count": 9,
   "metadata": {
    "colab": {
     "base_uri": "https://localhost:8080/",
     "height": 1615
    },
    "colab_type": "code",
    "id": "Zwz1Y8u9J5_H",
    "outputId": "a53906df-441a-42fd-8a0f-0df52a1ada1a"
   },
   "outputs": [
    {
     "name": "stdout",
     "output_type": "stream",
     "text": [
      "_________________________________________________________________\n",
      "Layer (type)                 Output Shape              Param #   \n",
      "=================================================================\n",
      "lstm_1 (LSTM)                (None, 32)                5376      \n",
      "_________________________________________________________________\n",
      "dropout_1 (Dropout)          (None, 32)                0         \n",
      "_________________________________________________________________\n",
      "dense_1 (Dense)              (None, 6)                 198       \n",
      "=================================================================\n",
      "Total params: 5,574\n",
      "Trainable params: 5,574\n",
      "Non-trainable params: 0\n",
      "_________________________________________________________________\n",
      "Train on 7352 samples, validate on 2947 samples\n",
      "Epoch 1/50\n",
      "7352/7352 [==============================] - 36s 5ms/step - loss: 1.3435 - acc: 0.4396 - val_loss: 1.1980 - val_acc: 0.4625\n",
      "\n",
      "Epoch 00001: val_loss improved from inf to 1.19797, saving model to model_1.h5\n",
      "Epoch 2/50\n",
      "7352/7352 [==============================] - 34s 5ms/step - loss: 1.0503 - acc: 0.5522 - val_loss: 1.0647 - val_acc: 0.5453\n",
      "\n",
      "Epoch 00002: val_loss improved from 1.19797 to 1.06472, saving model to model_1.h5\n",
      "Epoch 3/50\n",
      "7352/7352 [==============================] - 33s 5ms/step - loss: 0.8810 - acc: 0.6166 - val_loss: 0.9059 - val_acc: 0.5952\n",
      "\n",
      "Epoch 00003: val_loss improved from 1.06472 to 0.90590, saving model to model_1.h5\n",
      "Epoch 4/50\n",
      "7352/7352 [==============================] - 34s 5ms/step - loss: 0.7710 - acc: 0.6442 - val_loss: 1.1759 - val_acc: 0.5531\n",
      "\n",
      "Epoch 00004: val_loss did not improve from 0.90590\n",
      "Epoch 5/50\n",
      "7352/7352 [==============================] - 34s 5ms/step - loss: 0.7681 - acc: 0.6533 - val_loss: 0.7495 - val_acc: 0.6895\n",
      "\n",
      "Epoch 00005: val_loss improved from 0.90590 to 0.74948, saving model to model_1.h5\n",
      "Epoch 6/50\n",
      "7352/7352 [==============================] - 34s 5ms/step - loss: 0.7212 - acc: 0.6738 - val_loss: 0.7091 - val_acc: 0.7116\n",
      "\n",
      "Epoch 00006: val_loss improved from 0.74948 to 0.70915, saving model to model_1.h5\n",
      "Epoch 7/50\n",
      "7352/7352 [==============================] - 34s 5ms/step - loss: 0.6351 - acc: 0.7195 - val_loss: 0.6520 - val_acc: 0.7333\n",
      "\n",
      "Epoch 00007: val_loss improved from 0.70915 to 0.65201, saving model to model_1.h5\n",
      "Epoch 8/50\n",
      "7352/7352 [==============================] - 33s 5ms/step - loss: 0.5698 - acc: 0.7715 - val_loss: 0.5758 - val_acc: 0.7879\n",
      "\n",
      "Epoch 00008: val_loss improved from 0.65201 to 0.57576, saving model to model_1.h5\n",
      "Epoch 9/50\n",
      "7352/7352 [==============================] - 33s 5ms/step - loss: 0.5191 - acc: 0.7945 - val_loss: 0.5469 - val_acc: 0.8025\n",
      "\n",
      "Epoch 00009: val_loss improved from 0.57576 to 0.54690, saving model to model_1.h5\n",
      "Epoch 10/50\n",
      "7352/7352 [==============================] - 33s 5ms/step - loss: 0.4598 - acc: 0.8229 - val_loss: 0.5432 - val_acc: 0.8066\n",
      "\n",
      "Epoch 00010: val_loss improved from 0.54690 to 0.54321, saving model to model_1.h5\n",
      "Epoch 11/50\n",
      "7352/7352 [==============================] - 34s 5ms/step - loss: 0.4673 - acc: 0.8335 - val_loss: 0.4377 - val_acc: 0.8395\n",
      "\n",
      "Epoch 00011: val_loss improved from 0.54321 to 0.43771, saving model to model_1.h5\n",
      "Epoch 12/50\n",
      "7352/7352 [==============================] - 33s 5ms/step - loss: 0.3636 - acc: 0.8776 - val_loss: 0.4305 - val_acc: 0.8616\n",
      "\n",
      "Epoch 00012: val_loss improved from 0.43771 to 0.43050, saving model to model_1.h5\n",
      "Epoch 13/50\n",
      "7352/7352 [==============================] - 34s 5ms/step - loss: 0.3414 - acc: 0.8993 - val_loss: 0.3984 - val_acc: 0.8622\n",
      "\n",
      "Epoch 00013: val_loss improved from 0.43050 to 0.39844, saving model to model_1.h5\n",
      "Epoch 14/50\n",
      "7352/7352 [==============================] - 34s 5ms/step - loss: 0.2883 - acc: 0.9104 - val_loss: 0.4130 - val_acc: 0.8663\n",
      "\n",
      "Epoch 00014: val_loss did not improve from 0.39844\n",
      "Epoch 15/50\n",
      "7352/7352 [==============================] - 34s 5ms/step - loss: 0.2578 - acc: 0.9174 - val_loss: 0.4398 - val_acc: 0.8599\n",
      "\n",
      "Epoch 00015: val_loss did not improve from 0.39844\n",
      "Epoch 16/50\n",
      "7352/7352 [==============================] - 34s 5ms/step - loss: 0.2518 - acc: 0.9206 - val_loss: 0.3920 - val_acc: 0.8673\n",
      "\n",
      "Epoch 00016: val_loss improved from 0.39844 to 0.39199, saving model to model_1.h5\n",
      "Epoch 17/50\n",
      "7352/7352 [==============================] - 34s 5ms/step - loss: 0.2224 - acc: 0.9260 - val_loss: 0.4466 - val_acc: 0.8680\n",
      "\n",
      "Epoch 00017: val_loss did not improve from 0.39199\n",
      "Epoch 18/50\n",
      "7352/7352 [==============================] - 33s 5ms/step - loss: 0.2146 - acc: 0.9268 - val_loss: 0.4716 - val_acc: 0.8629\n",
      "\n",
      "Epoch 00018: val_loss did not improve from 0.39199\n",
      "Epoch 19/50\n",
      "7352/7352 [==============================] - 34s 5ms/step - loss: 0.2148 - acc: 0.9339 - val_loss: 0.4458 - val_acc: 0.8782\n",
      "Restoring model weights from the end of the best epoch\n",
      "\n",
      "Epoch 00019: val_loss did not improve from 0.39199\n",
      "\n",
      "Epoch 00019: ReduceLROnPlateau reducing learning rate to 0.00020000000949949026.\n",
      "Epoch 00019: early stopping\n"
     ]
    }
   ],
   "source": [
    "# Initiliazing the sequential model\n",
    "model = Sequential()\n",
    "# Configuring the parameters\n",
    "model.add(LSTM(32, input_shape=(timesteps, input_dim)))\n",
    "# Adding a dropout layer\n",
    "model.add(Dropout(0.5))\n",
    "# Adding a dense output layer with softmax activation\n",
    "model.add(Dense(n_classes, activation='softmax'))\n",
    "model.summary()\n",
    "\n",
    "# Compiling the model\n",
    "model.compile(loss='categorical_crossentropy',optimizer=RMSprop(lr = 0.001),metrics=['accuracy'])\n",
    "\n",
    "# Declaring Callbacks\n",
    "\n",
    "checkpoint = ModelCheckpoint(\"model_1.h5\",monitor=\"val_loss\",mode=\"min\",save_best_only = True,verbose=1)\n",
    "\n",
    "earlystop = EarlyStopping(monitor = 'val_loss', \n",
    "                          min_delta = 0, \n",
    "                          patience = 3,\n",
    "                          verbose = 1,\n",
    "                          restore_best_weights = True)\n",
    "\n",
    "reduce_lr = ReduceLROnPlateau(monitor = 'val_loss',\n",
    "                              factor = 0.2,\n",
    "                              patience = 3,\n",
    "                              verbose = 1,\n",
    "                              min_delta = 0.0001)\n",
    "\n",
    "# we put our call backs into a callback list\n",
    "callbacks = [earlystop, checkpoint, reduce_lr]\n",
    "\n",
    "\n",
    "\n",
    "# Training the model\n",
    "model_1 = model.fit(X_train, Y_train, batch_size=64,validation_data=(X_test, Y_test),epochs=50,callbacks = callbacks)"
   ]
  },
  {
   "cell_type": "code",
   "execution_count": 21,
   "metadata": {
    "colab": {
     "base_uri": "https://localhost:8080/",
     "height": 410
    },
    "colab_type": "code",
    "id": "A4Eni0VvKGPz",
    "outputId": "cd37921b-2122-4938-f0e8-048f63261df7"
   },
   "outputs": [
    {
     "name": "stdout",
     "output_type": "stream",
     "text": [
      "Test Score: 0.290512\n",
      "Test Accuracy: 89.752290%\n"
     ]
    },
    {
     "data": {
      "image/png": "[encoded data removed]",
      "text/plain": [
       "<Figure size 576x396 with 1 Axes>"
      ]
     },
     "metadata": {
      "tags": []
     },
     "output_type": "display_data"
    }
   ],
   "source": [
    "import matplotlib.pyplot as plt\n",
    "\n",
    "scores = model.evaluate(X_test, Y_test, verbose=0)\n",
    "print(\"Test Score: %f\" % (scores[0]))\n",
    "print(\"Test Accuracy: %f%%\" % (scores[1]*100))\n",
    "\n",
    "\n",
    "# plot train and validation loss\n",
    "\n",
    "plt.plot(model_1.history['loss'])\n",
    "plt.plot(model_1.history['val_loss'])\n",
    "plt.title('train vs validation loss')\n",
    "plt.ylabel('loss')\n",
    "plt.xlabel('number of epochs')\n",
    "plt.legend(['train','validation'],loc='upper right')\n",
    "plt.show()"
   ]
  },
  {
   "cell_type": "code",
   "execution_count": 18,
   "metadata": {
    "colab": {
     "base_uri": "https://localhost:8080/",
     "height": 266
    },
    "colab_type": "code",
    "id": "9fpB7SgNNpfB",
    "outputId": "682762b3-c773-41df-d96a-bf153eda15a3"
   },
   "outputs": [
    {
     "data": {
      "text/html": [
       "<div>\n",
       "<style scoped>\n",
       "    .dataframe tbody tr th:only-of-type {\n",
       "        vertical-align: middle;\n",
       "    }\n",
       "\n",
       "    .dataframe tbody tr th {\n",
       "        vertical-align: top;\n",
       "    }\n",
       "\n",
       "    .dataframe thead th {\n",
       "        text-align: right;\n",
       "    }\n",
       "</style>\n",
       "<table border=\"1\" class=\"dataframe\">\n",
       "  <thead>\n",
       "    <tr style=\"text-align: right;\">\n",
       "      <th>Pred</th>\n",
       "      <th>LAYING</th>\n",
       "      <th>SITTING</th>\n",
       "      <th>STANDING</th>\n",
       "      <th>WALKING</th>\n",
       "      <th>WALKING_DOWNSTAIRS</th>\n",
       "      <th>WALKING_UPSTAIRS</th>\n",
       "    </tr>\n",
       "    <tr>\n",
       "      <th>True</th>\n",
       "      <th></th>\n",
       "      <th></th>\n",
       "      <th></th>\n",
       "      <th></th>\n",
       "      <th></th>\n",
       "      <th></th>\n",
       "    </tr>\n",
       "  </thead>\n",
       "  <tbody>\n",
       "    <tr>\n",
       "      <th>LAYING</th>\n",
       "      <td>510</td>\n",
       "      <td>0</td>\n",
       "      <td>0</td>\n",
       "      <td>0</td>\n",
       "      <td>0</td>\n",
       "      <td>27</td>\n",
       "    </tr>\n",
       "    <tr>\n",
       "      <th>SITTING</th>\n",
       "      <td>0</td>\n",
       "      <td>374</td>\n",
       "      <td>109</td>\n",
       "      <td>2</td>\n",
       "      <td>0</td>\n",
       "      <td>6</td>\n",
       "    </tr>\n",
       "    <tr>\n",
       "      <th>STANDING</th>\n",
       "      <td>0</td>\n",
       "      <td>86</td>\n",
       "      <td>439</td>\n",
       "      <td>2</td>\n",
       "      <td>2</td>\n",
       "      <td>3</td>\n",
       "    </tr>\n",
       "    <tr>\n",
       "      <th>WALKING</th>\n",
       "      <td>1</td>\n",
       "      <td>0</td>\n",
       "      <td>0</td>\n",
       "      <td>446</td>\n",
       "      <td>42</td>\n",
       "      <td>7</td>\n",
       "    </tr>\n",
       "    <tr>\n",
       "      <th>WALKING_DOWNSTAIRS</th>\n",
       "      <td>0</td>\n",
       "      <td>0</td>\n",
       "      <td>0</td>\n",
       "      <td>13</td>\n",
       "      <td>373</td>\n",
       "      <td>34</td>\n",
       "    </tr>\n",
       "    <tr>\n",
       "      <th>WALKING_UPSTAIRS</th>\n",
       "      <td>0</td>\n",
       "      <td>0</td>\n",
       "      <td>1</td>\n",
       "      <td>18</td>\n",
       "      <td>38</td>\n",
       "      <td>414</td>\n",
       "    </tr>\n",
       "  </tbody>\n",
       "</table>\n",
       "</div>"
      ],
      "text/plain": [
       "Pred                LAYING  SITTING  STANDING  WALKING  WALKING_DOWNSTAIRS  \\\n",
       "True                                                                         \n",
       "LAYING                 510        0         0        0                   0   \n",
       "SITTING                  0      374       109        2                   0   \n",
       "STANDING                 0       86       439        2                   2   \n",
       "WALKING                  1        0         0      446                  42   \n",
       "WALKING_DOWNSTAIRS       0        0         0       13                 373   \n",
       "WALKING_UPSTAIRS         0        0         1       18                  38   \n",
       "\n",
       "Pred                WALKING_UPSTAIRS  \n",
       "True                                  \n",
       "LAYING                            27  \n",
       "SITTING                            6  \n",
       "STANDING                           3  \n",
       "WALKING                            7  \n",
       "WALKING_DOWNSTAIRS                34  \n",
       "WALKING_UPSTAIRS                 414  "
      ]
     },
     "execution_count": 18,
     "metadata": {
      "tags": []
     },
     "output_type": "execute_result"
    }
   ],
   "source": [
    "# Predictions\n",
    "\n",
    "Y_predictions = model.predict(X_test)\n",
    "\n",
    "\n",
    "\n",
    "# Confusion Matrix\n",
    "\n",
    "model_1_cm = confusion_matrix(Y_test,Y_predictions)\n",
    "model_1_cm"
   ]
  },
  {
   "cell_type": "code",
   "execution_count": 0,
   "metadata": {
    "colab": {},
    "colab_type": "code",
    "id": "hSip3SIOP763"
   },
   "outputs": [],
   "source": []
  },
  {
   "cell_type": "code",
   "execution_count": 0,
   "metadata": {
    "colab": {},
    "colab_type": "code",
    "id": "a1SYxIzwQIV6"
   },
   "outputs": [],
   "source": []
  },
  {
   "cell_type": "markdown",
   "metadata": {
    "colab_type": "text",
    "id": "QKvQUbSsP_C2"
   },
   "source": [
    "# **Model -2  With Two LSTM Layers and 64 Neurons**"
   ]
  },
  {
   "cell_type": "code",
   "execution_count": 26,
   "metadata": {
    "colab": {
     "base_uri": "https://localhost:8080/",
     "height": 1615
    },
    "colab_type": "code",
    "id": "3aN7-t7IQMnl",
    "outputId": "a39ae3f4-55aa-4277-d2be-1a83dc8c67db"
   },
   "outputs": [
    {
     "name": "stdout",
     "output_type": "stream",
     "text": [
      "_________________________________________________________________\n",
      "Layer (type)                 Output Shape              Param #   \n",
      "=================================================================\n",
      "lstm_6 (LSTM)                (None, 128, 64)           18944     \n",
      "_________________________________________________________________\n",
      "dropout_6 (Dropout)          (None, 128, 64)           0         \n",
      "_________________________________________________________________\n",
      "lstm_7 (LSTM)                (None, 64)                33024     \n",
      "_________________________________________________________________\n",
      "dropout_7 (Dropout)          (None, 64)                0         \n",
      "_________________________________________________________________\n",
      "dense_4 (Dense)              (None, 6)                 390       \n",
      "=================================================================\n",
      "Total params: 52,358\n",
      "Trainable params: 52,358\n",
      "Non-trainable params: 0\n",
      "_________________________________________________________________\n",
      "Train on 7352 samples, validate on 2947 samples\n",
      "Epoch 1/50\n",
      "7352/7352 [==============================] - 69s 9ms/step - loss: 1.2688 - acc: 0.4585 - val_loss: 1.0573 - val_acc: 0.5558\n",
      "\n",
      "Epoch 00001: val_loss improved from inf to 1.05732, saving model to model_2.h5\n",
      "Epoch 2/50\n",
      "7352/7352 [==============================] - 66s 9ms/step - loss: 0.8460 - acc: 0.6424 - val_loss: 0.7402 - val_acc: 0.7072\n",
      "\n",
      "Epoch 00002: val_loss improved from 1.05732 to 0.74018, saving model to model_2.h5\n",
      "Epoch 3/50\n",
      "7352/7352 [==============================] - 67s 9ms/step - loss: 0.6483 - acc: 0.7259 - val_loss: 0.8853 - val_acc: 0.6271\n",
      "\n",
      "Epoch 00003: val_loss did not improve from 0.74018\n",
      "Epoch 4/50\n",
      "7352/7352 [==============================] - 66s 9ms/step - loss: 0.5955 - acc: 0.7326 - val_loss: 0.7296 - val_acc: 0.6709\n",
      "\n",
      "Epoch 00004: val_loss improved from 0.74018 to 0.72959, saving model to model_2.h5\n",
      "Epoch 5/50\n",
      "7352/7352 [==============================] - 67s 9ms/step - loss: 0.5873 - acc: 0.7422 - val_loss: 0.6746 - val_acc: 0.7306\n",
      "\n",
      "Epoch 00005: val_loss improved from 0.72959 to 0.67457, saving model to model_2.h5\n",
      "Epoch 6/50\n",
      "7352/7352 [==============================] - 66s 9ms/step - loss: 0.8410 - acc: 0.7069 - val_loss: 0.9561 - val_acc: 0.6081\n",
      "\n",
      "Epoch 00006: val_loss did not improve from 0.67457\n",
      "Epoch 7/50\n",
      "7352/7352 [==============================] - 66s 9ms/step - loss: 0.8394 - acc: 0.6593 - val_loss: 0.7624 - val_acc: 0.7374\n",
      "\n",
      "Epoch 00007: val_loss did not improve from 0.67457\n",
      "Epoch 8/50\n",
      "7352/7352 [==============================] - 66s 9ms/step - loss: 0.5402 - acc: 0.7903 - val_loss: 0.6457 - val_acc: 0.7923\n",
      "\n",
      "Epoch 00008: val_loss improved from 0.67457 to 0.64573, saving model to model_2.h5\n",
      "Epoch 9/50\n",
      "7352/7352 [==============================] - 66s 9ms/step - loss: 0.5227 - acc: 0.7847 - val_loss: 0.6471 - val_acc: 0.7723\n",
      "\n",
      "Epoch 00009: val_loss did not improve from 0.64573\n",
      "Epoch 10/50\n",
      "7352/7352 [==============================] - 67s 9ms/step - loss: 0.4213 - acc: 0.8403 - val_loss: 0.5745 - val_acc: 0.8286\n",
      "\n",
      "Epoch 00010: val_loss improved from 0.64573 to 0.57449, saving model to model_2.h5\n",
      "Epoch 11/50\n",
      "7352/7352 [==============================] - 66s 9ms/step - loss: 0.3875 - acc: 0.8901 - val_loss: 0.5759 - val_acc: 0.8246\n",
      "\n",
      "Epoch 00011: val_loss did not improve from 0.57449\n",
      "Epoch 12/50\n",
      "7352/7352 [==============================] - 66s 9ms/step - loss: 0.3186 - acc: 0.9042 - val_loss: 0.5209 - val_acc: 0.8592\n",
      "\n",
      "Epoch 00012: val_loss improved from 0.57449 to 0.52088, saving model to model_2.h5\n",
      "Epoch 13/50\n",
      "7352/7352 [==============================] - 66s 9ms/step - loss: 0.2389 - acc: 0.9256 - val_loss: 0.5421 - val_acc: 0.8517\n",
      "\n",
      "Epoch 00013: val_loss did not improve from 0.52088\n",
      "Epoch 14/50\n",
      "7352/7352 [==============================] - 66s 9ms/step - loss: 0.1976 - acc: 0.9357 - val_loss: 0.5319 - val_acc: 0.8690\n",
      "\n",
      "Epoch 00014: val_loss did not improve from 0.52088\n",
      "Epoch 15/50\n",
      "7352/7352 [==============================] - 66s 9ms/step - loss: 0.1934 - acc: 0.9362 - val_loss: 0.5086 - val_acc: 0.8734\n",
      "\n",
      "Epoch 00015: val_loss improved from 0.52088 to 0.50856, saving model to model_2.h5\n",
      "Epoch 16/50\n",
      "7352/7352 [==============================] - 66s 9ms/step - loss: 0.2203 - acc: 0.9168 - val_loss: 0.6111 - val_acc: 0.7957\n",
      "\n",
      "Epoch 00016: val_loss did not improve from 0.50856\n",
      "Epoch 17/50\n",
      "7352/7352 [==============================] - 66s 9ms/step - loss: 0.2368 - acc: 0.9125 - val_loss: 0.5100 - val_acc: 0.8741\n",
      "\n",
      "Epoch 00017: val_loss did not improve from 0.50856\n",
      "Epoch 18/50\n",
      "7352/7352 [==============================] - 66s 9ms/step - loss: 0.2039 - acc: 0.9278 - val_loss: 0.5345 - val_acc: 0.8690\n",
      "Restoring model weights from the end of the best epoch\n",
      "\n",
      "Epoch 00018: val_loss did not improve from 0.50856\n",
      "\n",
      "Epoch 00018: ReduceLROnPlateau reducing learning rate to 0.00020000000949949026.\n",
      "Epoch 00018: early stopping\n"
     ]
    }
   ],
   "source": [
    "# Initiliazing the sequential model\n",
    "model_2 = Sequential()\n",
    "# Configuring the parameters\n",
    "model_2.add(LSTM(64,return_sequences=True, input_shape=(timesteps, input_dim)))\n",
    "# Adding a dropout layer\n",
    "model_2.add(Dropout(0.7))\n",
    "\n",
    "# Configuring the parameters\n",
    "model_2.add(LSTM(64))\n",
    "# Adding a dropout layer\n",
    "model_2.add(Dropout(0.7))\n",
    "# Adding a dense output layer with softmax activation\n",
    "model_2.add(Dense(n_classes, activation='softmax'))\n",
    "model_2.summary()\n",
    "\n",
    "# Compiling the model\n",
    "model_2.compile(loss='categorical_crossentropy',optimizer= Adam(lr=0.001, beta_1=0.9, beta_2=0.999, epsilon=None, decay=0.0, amsgrad=False),metrics=['accuracy'])\n",
    "\n",
    "# Declaring Callbacks\n",
    "\n",
    "checkpoint = ModelCheckpoint(\"model_2.h5\",monitor=\"val_loss\",mode=\"min\",save_best_only = True,verbose=1)\n",
    "\n",
    "earlystop = EarlyStopping(monitor = 'val_loss', \n",
    "                          min_delta = 0, \n",
    "                          patience = 3,\n",
    "                          verbose = 1,\n",
    "                          restore_best_weights = True)\n",
    "\n",
    "reduce_lr = ReduceLROnPlateau(monitor = 'val_loss',\n",
    "                              factor = 0.2,\n",
    "                              patience = 3,\n",
    "                              verbose = 1,\n",
    "                              min_delta = 0.0001)\n",
    "\n",
    "# we put our call backs into a callback list\n",
    "callbacks = [earlystop, checkpoint, reduce_lr]\n",
    "\n",
    "# Training the model\n",
    "model_two = model_2.fit(X_train,Y_train,batch_size=64,validation_data=(X_test, Y_test),epochs=50,callbacks=callbacks)"
   ]
  },
  {
   "cell_type": "code",
   "execution_count": 27,
   "metadata": {
    "colab": {
     "base_uri": "https://localhost:8080/",
     "height": 410
    },
    "colab_type": "code",
    "id": "uo1v-aHMQgzb",
    "outputId": "0d6f1665-1962-4ad3-8270-ed00fde4bdf7"
   },
   "outputs": [
    {
     "name": "stdout",
     "output_type": "stream",
     "text": [
      "Test Score: 0.508556\n",
      "Test Accuracy: 87.343061%\n"
     ]
    },
    {
     "data": {
      "image/png": "[encoded data removed]",
      "text/plain": [
       "<Figure size 576x396 with 1 Axes>"
      ]
     },
     "metadata": {
      "tags": []
     },
     "output_type": "display_data"
    }
   ],
   "source": [
    "scores_2 = model_2.evaluate(X_test, Y_test, verbose=0)\n",
    "print(\"Test Score: %f\" % (scores_2[0]))\n",
    "print(\"Test Accuracy: %f%%\" % (scores_2[1]*100))\n",
    "\n",
    "\n",
    "# plot train and validation loss\n",
    "\n",
    "plt.plot(model_two.history['loss'])\n",
    "plt.plot(model_two.history['val_loss'])\n",
    "plt.title('train vs validation loss')\n",
    "plt.ylabel('loss')\n",
    "plt.xlabel('number of epochs')\n",
    "plt.legend(['train','validation'],loc='upper right')\n",
    "plt.show()"
   ]
  },
  {
   "cell_type": "code",
   "execution_count": 28,
   "metadata": {
    "colab": {
     "base_uri": "https://localhost:8080/",
     "height": 266
    },
    "colab_type": "code",
    "id": "emO13ShXVM1L",
    "outputId": "ad493eb0-1cf5-413d-8d05-b289b1211d2d"
   },
   "outputs": [
    {
     "data": {
      "text/html": [
       "<div>\n",
       "<style scoped>\n",
       "    .dataframe tbody tr th:only-of-type {\n",
       "        vertical-align: middle;\n",
       "    }\n",
       "\n",
       "    .dataframe tbody tr th {\n",
       "        vertical-align: top;\n",
       "    }\n",
       "\n",
       "    .dataframe thead th {\n",
       "        text-align: right;\n",
       "    }\n",
       "</style>\n",
       "<table border=\"1\" class=\"dataframe\">\n",
       "  <thead>\n",
       "    <tr style=\"text-align: right;\">\n",
       "      <th>Pred</th>\n",
       "      <th>LAYING</th>\n",
       "      <th>SITTING</th>\n",
       "      <th>STANDING</th>\n",
       "      <th>WALKING</th>\n",
       "      <th>WALKING_DOWNSTAIRS</th>\n",
       "      <th>WALKING_UPSTAIRS</th>\n",
       "    </tr>\n",
       "    <tr>\n",
       "      <th>True</th>\n",
       "      <th></th>\n",
       "      <th></th>\n",
       "      <th></th>\n",
       "      <th></th>\n",
       "      <th></th>\n",
       "      <th></th>\n",
       "    </tr>\n",
       "  </thead>\n",
       "  <tbody>\n",
       "    <tr>\n",
       "      <th>LAYING</th>\n",
       "      <td>510</td>\n",
       "      <td>0</td>\n",
       "      <td>0</td>\n",
       "      <td>0</td>\n",
       "      <td>0</td>\n",
       "      <td>27</td>\n",
       "    </tr>\n",
       "    <tr>\n",
       "      <th>SITTING</th>\n",
       "      <td>0</td>\n",
       "      <td>371</td>\n",
       "      <td>95</td>\n",
       "      <td>3</td>\n",
       "      <td>0</td>\n",
       "      <td>22</td>\n",
       "    </tr>\n",
       "    <tr>\n",
       "      <th>STANDING</th>\n",
       "      <td>0</td>\n",
       "      <td>74</td>\n",
       "      <td>442</td>\n",
       "      <td>12</td>\n",
       "      <td>0</td>\n",
       "      <td>4</td>\n",
       "    </tr>\n",
       "    <tr>\n",
       "      <th>WALKING</th>\n",
       "      <td>0</td>\n",
       "      <td>0</td>\n",
       "      <td>0</td>\n",
       "      <td>451</td>\n",
       "      <td>2</td>\n",
       "      <td>43</td>\n",
       "    </tr>\n",
       "    <tr>\n",
       "      <th>WALKING_DOWNSTAIRS</th>\n",
       "      <td>0</td>\n",
       "      <td>0</td>\n",
       "      <td>0</td>\n",
       "      <td>26</td>\n",
       "      <td>394</td>\n",
       "      <td>0</td>\n",
       "    </tr>\n",
       "    <tr>\n",
       "      <th>WALKING_UPSTAIRS</th>\n",
       "      <td>0</td>\n",
       "      <td>0</td>\n",
       "      <td>0</td>\n",
       "      <td>60</td>\n",
       "      <td>5</td>\n",
       "      <td>406</td>\n",
       "    </tr>\n",
       "  </tbody>\n",
       "</table>\n",
       "</div>"
      ],
      "text/plain": [
       "Pred                LAYING  SITTING  STANDING  WALKING  WALKING_DOWNSTAIRS  \\\n",
       "True                                                                         \n",
       "LAYING                 510        0         0        0                   0   \n",
       "SITTING                  0      371        95        3                   0   \n",
       "STANDING                 0       74       442       12                   0   \n",
       "WALKING                  0        0         0      451                   2   \n",
       "WALKING_DOWNSTAIRS       0        0         0       26                 394   \n",
       "WALKING_UPSTAIRS         0        0         0       60                   5   \n",
       "\n",
       "Pred                WALKING_UPSTAIRS  \n",
       "True                                  \n",
       "LAYING                            27  \n",
       "SITTING                           22  \n",
       "STANDING                           4  \n",
       "WALKING                           43  \n",
       "WALKING_DOWNSTAIRS                 0  \n",
       "WALKING_UPSTAIRS                 406  "
      ]
     },
     "execution_count": 28,
     "metadata": {
      "tags": []
     },
     "output_type": "execute_result"
    }
   ],
   "source": [
    "# Predictions\n",
    "\n",
    "Y_predictions = model_2.predict(X_test)\n",
    "\n",
    "\n",
    "\n",
    "# Confusion Matrix\n",
    "\n",
    "model_2_cm = confusion_matrix(Y_test,Y_predictions)\n",
    "model_2_cm"
   ]
  },
  {
   "cell_type": "code",
   "execution_count": 0,
   "metadata": {
    "colab": {},
    "colab_type": "code",
    "id": "ZHak_hjiVvXW"
   },
   "outputs": [],
   "source": []
  },
  {
   "cell_type": "markdown",
   "metadata": {
    "colab_type": "text",
    "id": "qzUJ5C6sWZJo"
   },
   "source": [
    "# **Comparing Model Performance**"
   ]
  },
  {
   "cell_type": "code",
   "execution_count": 29,
   "metadata": {
    "colab": {
     "base_uri": "https://localhost:8080/",
     "height": 119
    },
    "colab_type": "code",
    "id": "tjiEkMQxWdJD",
    "outputId": "35ccb4a6-37a9-485f-b94b-c7dd8991a9e1"
   },
   "outputs": [
    {
     "name": "stdout",
     "output_type": "stream",
     "text": [
      "+-------+---------+-------------------+--------------------+\n",
      "| S.NO. |  MODEL  | Training Accuracy |   Test Accuracy    |\n",
      "+-------+---------+-------------------+--------------------+\n",
      "|   1   | Model 1 | 0.933895538823519 | 0.8975229046487954 |\n",
      "|   2   | Model 2 | 0.936207834537971 | 0.8734306073973532 |\n",
      "+-------+---------+-------------------+--------------------+\n"
     ]
    }
   ],
   "source": [
    "from prettytable import PrettyTable\n",
    "\n",
    "\n",
    "name = [\"Model 1\",\"Model 2\"]\n",
    "train_acc = [max(model_1.history['acc']),max(model_two.history['acc'])]\n",
    "\n",
    "test_acc =[scores[1],scores_2[1]]\n",
    "             \n",
    "numbering = [1,2]\n",
    "ptable = PrettyTable()\n",
    "\n",
    "# Adding columns\n",
    "ptable.add_column(\"S.NO.\",numbering)\n",
    "ptable.add_column(\"MODEL\",name)\n",
    "ptable.add_column(\"Training Accuracy\",train_acc)\n",
    "ptable.add_column(\"Test Accuracy\",test_acc)\n",
    "print(ptable)"
   ]
  },
  {
   "cell_type": "code",
   "execution_count": 0,
   "metadata": {
    "colab": {},
    "colab_type": "code",
    "id": "P8qfN8JXWkd5"
   },
   "outputs": [],
   "source": []
  }
 ],
 "metadata": {
  "accelerator": "GPU",
  "colab": {
   "name": "Human Activity Recognition.ipynb",
   "provenance": [],
   "version": "0.3.2"
  },
  "kernelspec": {
   "display_name": "Python 3",
   "language": "python",
   "name": "python3"
  },
  "language_info": {
   "codemirror_mode": {
    "name": "ipython",
    "version": 3
   },
   "file_extension": ".py",
   "mimetype": "text/x-python",
   "name": "python",
   "nbconvert_exporter": "python",
   "pygments_lexer": "ipython3",
   "version": "3.7.0"
  }
 },
 "nbformat": 4,
 "nbformat_minor": 1
}
